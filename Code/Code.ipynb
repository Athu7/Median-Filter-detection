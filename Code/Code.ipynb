{
  "nbformat": 4,
  "nbformat_minor": 0,
  "metadata": {
    "colab": {
      "name": "Code.ipynb",
      "provenance": [],
      "collapsed_sections": []
    },
    "kernelspec": {
      "display_name": "Python 3 (ipykernel)",
      "language": "python",
      "name": "python3"
    },
    "language_info": {
      "codemirror_mode": {
        "name": "ipython",
        "version": 3
      },
      "file_extension": ".py",
      "mimetype": "text/x-python",
      "name": "python",
      "nbconvert_exporter": "python",
      "pygments_lexer": "ipython3",
      "version": "3.9.6"
    }
  },
  "cells": [
    {
      "cell_type": "markdown",
      "metadata": {
        "id": "cnmQ-QWJXiC2"
      },
      "source": [
        "## **Initializarion**"
      ]
    },
    {
      "cell_type": "code",
      "metadata": {
        "id": "C_EdQXxtqM5m"
      },
      "source": [
        "from PIL import Image, ImageFilter\n",
        "import numpy as np"
      ],
      "execution_count": 1,
      "outputs": []
    },
    {
      "cell_type": "markdown",
      "metadata": {
        "id": "IH9UOgzfWnt4"
      },
      "source": [
        "## **Download an Random Image From Web.**"
      ]
    },
    {
      "cell_type": "code",
      "metadata": {
        "colab": {
          "base_uri": "https://localhost:8080/"
        },
        "id": "xQP4ZkkxWnt4",
        "outputId": "86ab78c6-ca9d-49c0-8654-e1db03b56a8b"
      },
      "source": [
        "!wget https://file-examples-com.github.io/uploads/2017/10/file_example_TIFF_1MB.tiff"
      ],
      "execution_count": 2,
      "outputs": [
        {
          "output_type": "stream",
          "name": "stdout",
          "text": [
            "--2021-12-03 08:23:05--  https://file-examples-com.github.io/uploads/2017/10/file_example_TIFF_1MB.tiff\n",
            "Resolving file-examples-com.github.io (file-examples-com.github.io)... 185.199.108.153, 185.199.109.153, 185.199.110.153, ...\n",
            "Connecting to file-examples-com.github.io (file-examples-com.github.io)|185.199.108.153|:443... connected.\n",
            "HTTP request sent, awaiting response... 200 OK\n",
            "Length: 1131930 (1.1M) [image/tiff]\n",
            "Saving to: ‘file_example_TIFF_1MB.tiff’\n",
            "\n",
            "\r          file_exam   0%[                    ]       0  --.-KB/s               \rfile_example_TIFF_1 100%[===================>]   1.08M  --.-KB/s    in 0.03s   \n",
            "\n",
            "2021-12-03 08:23:05 (32.3 MB/s) - ‘file_example_TIFF_1MB.tiff’ saved [1131930/1131930]\n",
            "\n"
          ]
        }
      ]
    },
    {
      "cell_type": "code",
      "metadata": {
        "id": "1l0jqNRZXqH-"
      },
      "source": [
        "!mv file_example_TIFF_1MB.tiff blind.tiff"
      ],
      "execution_count": 3,
      "outputs": []
    },
    {
      "cell_type": "markdown",
      "metadata": {
        "id": "UA0PBY2RXpkK"
      },
      "source": [
        "## **Declaring Required Functions.**"
      ]
    },
    {
      "cell_type": "code",
      "metadata": {
        "id": "iqZavsNa9T2-"
      },
      "source": [
        "def summer(mat, d):\n",
        "  irp, icp = mat.shape\n",
        "  temp = np.zeros(mat.shape)\n",
        "\n",
        "  for i in range(icp):\n",
        "    temp[0, i] = np.sum(mat[:d, i])\n",
        "    for j in range(1, irp-d+1):\n",
        "        temp[j, i] = temp[j-1, i] + mat[d+j-1, i] - mat[j-1, i]\n",
        "  return temp\n",
        "\n",
        "def custom_var(img, d, tau):\n",
        "  pow_1 = np.pad(img, d // 2, mode='constant').astype('int32')\n",
        "  pow_2 = pow_1 ** 2\n",
        "\n",
        "  ir, ic = img.shape\n",
        "  irp, icp = pow_1.shape\n",
        "  \n",
        "  pow_1_sum = summer(pow_1, d)\n",
        "  pow_2_sum = summer(pow_2, d)\n",
        "\n",
        "  res_var = np.zeros(img.shape)\n",
        "\n",
        "  for i in range(ir):\n",
        "    var_1 = np.sum(pow_1[i:i+d, :d])\n",
        "    var_2 = np.sum(pow_2[i:i+d, :d])\n",
        "    res_var[i, 0] = abs(var_2 / 49 - (var_1**2) / 2401)\n",
        "    for j in range(1, ic):\n",
        "        var_1 = var_1 - pow_1_sum[i, j-1] + pow_1_sum[i, j+d-1]\n",
        "        var_2 = var_2 - pow_2_sum[i, j-1] + pow_2_sum[i, j+d-1]\n",
        "        res_var[i, j] = abs(var_2 / 49 - (var_1**2) / 2401)\n",
        "  return (res_var >= tau).astype('int8')\n"
      ],
      "execution_count": 4,
      "outputs": []
    },
    {
      "cell_type": "code",
      "metadata": {
        "id": "iJ83v984qi4S"
      },
      "source": [
        "def detector(img, d, tau):\n",
        "  ir, ic = img.shape\n",
        "\n",
        "  # Calculate nabla matrices\n",
        "  temp_row = np.concatenate((np.zeros((ir, 1), dtype='int16'), img[:, :-1]), axis=1)\n",
        "  temp_col = np.concatenate((np.zeros((1, ic), dtype='int16'), img[:-1, :]), axis=0)\n",
        "  nabla_row = (img - temp_row == 0).astype('int8')\n",
        "  nabla_col = (img - temp_col == 0).astype('int8')\n",
        "\n",
        "  # Calculate Variance matrix\n",
        "  var = custom_var(img, d, tau)\n",
        "\n",
        "  # Calculate f value\n",
        "  fr = np.sum(nabla_row * var) / np.sum(var)\n",
        "  fc = np.sum(nabla_col * var) / np.sum(var)\n",
        "\n",
        "  return fr/(2 ** 0.5) + fc/(2 ** 0.5)"
      ],
      "execution_count": 5,
      "outputs": []
    },
    {
      "cell_type": "markdown",
      "metadata": {
        "id": "eKSwCpn1YqBs"
      },
      "source": [
        "## **Extractig f Value For The Image \"blind.tiff\"**"
      ]
    },
    {
      "cell_type": "code",
      "metadata": {
        "colab": {
          "base_uri": "https://localhost:8080/"
        },
        "id": "WknORGMJqlzG",
        "outputId": "6042cf6f-21b7-405f-a7e3-91f4bc2cd801"
      },
      "source": [
        "d, tau = 7, 100\n",
        "\n",
        "img = Image.open('blind.tiff').convert('L')\n",
        "f = detector(np.array(img), d, tau)\n",
        "\n",
        "print('The f value for an unknown image \"original.png\" is :', f)"
      ],
      "execution_count": 6,
      "outputs": [
        {
          "output_type": "stream",
          "name": "stdout",
          "text": [
            "The f value for an unknown image \"original.png\" is : 0.25108240994428205\n"
          ]
        }
      ]
    },
    {
      "cell_type": "markdown",
      "metadata": {
        "id": "g_4MeQhcYF6i"
      },
      "source": [
        "So final f value is > 0.2, which means the image is tampered with median filter."
      ]
    }
  ]
}